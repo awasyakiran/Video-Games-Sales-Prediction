{
 "cells": [
  {
   "cell_type": "markdown",
   "id": "90a8420c",
   "metadata": {},
   "source": [
    "# Video Games Sales Prediction"
   ]
  },
  {
   "cell_type": "code",
   "execution_count": 1,
   "id": "e6cda138",
   "metadata": {},
   "outputs": [],
   "source": [
    "import pandas as pd\n",
    "import numpy as np\n",
    "import matplotlib.pyplot as plt\n",
    "import seaborn as sns\n",
    "%matplotlib inline"
   ]
  },
  {
   "cell_type": "code",
   "execution_count": 2,
   "id": "1e55a8f8",
   "metadata": {},
   "outputs": [],
   "source": [
    "df = pd.read_csv(\"vgsales.csv\")"
   ]
  },
  {
   "cell_type": "code",
   "execution_count": 3,
   "id": "eaf573ce",
   "metadata": {},
   "outputs": [
    {
     "data": {
      "text/plain": [
       "(16324, 11)"
      ]
     },
     "execution_count": 3,
     "metadata": {},
     "output_type": "execute_result"
    }
   ],
   "source": [
    "df.shape"
   ]
  },
  {
   "cell_type": "code",
   "execution_count": 4,
   "id": "cebd2922",
   "metadata": {},
   "outputs": [
    {
     "data": {
      "text/html": [
       "<div>\n",
       "<style scoped>\n",
       "    .dataframe tbody tr th:only-of-type {\n",
       "        vertical-align: middle;\n",
       "    }\n",
       "\n",
       "    .dataframe tbody tr th {\n",
       "        vertical-align: top;\n",
       "    }\n",
       "\n",
       "    .dataframe thead th {\n",
       "        text-align: right;\n",
       "    }\n",
       "</style>\n",
       "<table border=\"1\" class=\"dataframe\">\n",
       "  <thead>\n",
       "    <tr style=\"text-align: right;\">\n",
       "      <th></th>\n",
       "      <th>Rank</th>\n",
       "      <th>Name</th>\n",
       "      <th>Platform</th>\n",
       "      <th>Year</th>\n",
       "      <th>Genre</th>\n",
       "      <th>Publisher</th>\n",
       "      <th>NA_Sales</th>\n",
       "      <th>EU_Sales</th>\n",
       "      <th>JP_Sales</th>\n",
       "      <th>Other_Sales</th>\n",
       "      <th>Global_Sales</th>\n",
       "    </tr>\n",
       "  </thead>\n",
       "  <tbody>\n",
       "    <tr>\n",
       "      <th>0</th>\n",
       "      <td>259</td>\n",
       "      <td>Asteroids</td>\n",
       "      <td>2600</td>\n",
       "      <td>1980</td>\n",
       "      <td>Shooter</td>\n",
       "      <td>Atari</td>\n",
       "      <td>4.00</td>\n",
       "      <td>0.26</td>\n",
       "      <td>0.0</td>\n",
       "      <td>0.05</td>\n",
       "      <td>4.31</td>\n",
       "    </tr>\n",
       "    <tr>\n",
       "      <th>1</th>\n",
       "      <td>545</td>\n",
       "      <td>Missile Command</td>\n",
       "      <td>2600</td>\n",
       "      <td>1980</td>\n",
       "      <td>Shooter</td>\n",
       "      <td>Atari</td>\n",
       "      <td>2.56</td>\n",
       "      <td>0.17</td>\n",
       "      <td>0.0</td>\n",
       "      <td>0.03</td>\n",
       "      <td>2.76</td>\n",
       "    </tr>\n",
       "    <tr>\n",
       "      <th>2</th>\n",
       "      <td>1768</td>\n",
       "      <td>Kaboom!</td>\n",
       "      <td>2600</td>\n",
       "      <td>1980</td>\n",
       "      <td>Misc</td>\n",
       "      <td>Activision</td>\n",
       "      <td>1.07</td>\n",
       "      <td>0.07</td>\n",
       "      <td>0.0</td>\n",
       "      <td>0.01</td>\n",
       "      <td>1.15</td>\n",
       "    </tr>\n",
       "    <tr>\n",
       "      <th>3</th>\n",
       "      <td>1971</td>\n",
       "      <td>Defender</td>\n",
       "      <td>2600</td>\n",
       "      <td>1980</td>\n",
       "      <td>Misc</td>\n",
       "      <td>Atari</td>\n",
       "      <td>0.99</td>\n",
       "      <td>0.05</td>\n",
       "      <td>0.0</td>\n",
       "      <td>0.01</td>\n",
       "      <td>1.05</td>\n",
       "    </tr>\n",
       "    <tr>\n",
       "      <th>4</th>\n",
       "      <td>2671</td>\n",
       "      <td>Boxing</td>\n",
       "      <td>2600</td>\n",
       "      <td>1980</td>\n",
       "      <td>Fighting</td>\n",
       "      <td>Activision</td>\n",
       "      <td>0.72</td>\n",
       "      <td>0.04</td>\n",
       "      <td>0.0</td>\n",
       "      <td>0.01</td>\n",
       "      <td>0.77</td>\n",
       "    </tr>\n",
       "  </tbody>\n",
       "</table>\n",
       "</div>"
      ],
      "text/plain": [
       "   Rank             Name Platform  Year     Genre   Publisher  NA_Sales  \\\n",
       "0   259        Asteroids     2600  1980   Shooter       Atari      4.00   \n",
       "1   545  Missile Command     2600  1980   Shooter       Atari      2.56   \n",
       "2  1768          Kaboom!     2600  1980      Misc  Activision      1.07   \n",
       "3  1971         Defender     2600  1980      Misc       Atari      0.99   \n",
       "4  2671           Boxing     2600  1980  Fighting  Activision      0.72   \n",
       "\n",
       "   EU_Sales  JP_Sales  Other_Sales  Global_Sales  \n",
       "0      0.26       0.0         0.05          4.31  \n",
       "1      0.17       0.0         0.03          2.76  \n",
       "2      0.07       0.0         0.01          1.15  \n",
       "3      0.05       0.0         0.01          1.05  \n",
       "4      0.04       0.0         0.01          0.77  "
      ]
     },
     "execution_count": 4,
     "metadata": {},
     "output_type": "execute_result"
    }
   ],
   "source": [
    "df.head()"
   ]
  },
  {
   "cell_type": "code",
   "execution_count": 5,
   "id": "3a6f637c",
   "metadata": {},
   "outputs": [
    {
     "data": {
      "text/plain": [
       "<bound method DataFrame.info of         Rank                                               Name Platform  \\\n",
       "0        259                                          Asteroids     2600   \n",
       "1        545                                    Missile Command     2600   \n",
       "2       1768                                            Kaboom!     2600   \n",
       "3       1971                                           Defender     2600   \n",
       "4       2671                                             Boxing     2600   \n",
       "...      ...                                                ...      ...   \n",
       "16319  16565                                       Mighty No. 9     XOne   \n",
       "16320  16572                                 Resident Evil 4 HD     XOne   \n",
       "16321  16573                      Farming 2017 - The Simulation      PS4   \n",
       "16322  16579                                  Rugby Challenge 3     XOne   \n",
       "16323  16592  Chou Ezaru wa Akai Hana: Koi wa Tsuki ni Shiru...      PSV   \n",
       "\n",
       "       Year       Genre             Publisher  NA_Sales  EU_Sales  JP_Sales  \\\n",
       "0      1980     Shooter                 Atari      4.00      0.26      0.00   \n",
       "1      1980     Shooter                 Atari      2.56      0.17      0.00   \n",
       "2      1980        Misc            Activision      1.07      0.07      0.00   \n",
       "3      1980        Misc                 Atari      0.99      0.05      0.00   \n",
       "4      1980    Fighting            Activision      0.72      0.04      0.00   \n",
       "...     ...         ...                   ...       ...       ...       ...   \n",
       "16319  2016    Platform           Deep Silver      0.01      0.00      0.00   \n",
       "16320  2016     Shooter                Capcom      0.01      0.00      0.00   \n",
       "16321  2016  Simulation     UIG Entertainment      0.00      0.01      0.00   \n",
       "16322  2016      Sports  Alternative Software      0.00      0.01      0.00   \n",
       "16323  2016      Action       dramatic create      0.00      0.00      0.01   \n",
       "\n",
       "       Other_Sales  Global_Sales  \n",
       "0             0.05          4.31  \n",
       "1             0.03          2.76  \n",
       "2             0.01          1.15  \n",
       "3             0.01          1.05  \n",
       "4             0.01          0.77  \n",
       "...            ...           ...  \n",
       "16319         0.00          0.01  \n",
       "16320         0.00          0.01  \n",
       "16321         0.00          0.01  \n",
       "16322         0.00          0.01  \n",
       "16323         0.00          0.01  \n",
       "\n",
       "[16324 rows x 11 columns]>"
      ]
     },
     "execution_count": 5,
     "metadata": {},
     "output_type": "execute_result"
    }
   ],
   "source": [
    "df.info"
   ]
  },
  {
   "cell_type": "code",
   "execution_count": 6,
   "id": "30b83926",
   "metadata": {},
   "outputs": [
    {
     "data": {
      "text/html": [
       "<div>\n",
       "<style scoped>\n",
       "    .dataframe tbody tr th:only-of-type {\n",
       "        vertical-align: middle;\n",
       "    }\n",
       "\n",
       "    .dataframe tbody tr th {\n",
       "        vertical-align: top;\n",
       "    }\n",
       "\n",
       "    .dataframe thead th {\n",
       "        text-align: right;\n",
       "    }\n",
       "</style>\n",
       "<table border=\"1\" class=\"dataframe\">\n",
       "  <thead>\n",
       "    <tr style=\"text-align: right;\">\n",
       "      <th></th>\n",
       "      <th>Rank</th>\n",
       "      <th>Year</th>\n",
       "      <th>NA_Sales</th>\n",
       "      <th>EU_Sales</th>\n",
       "      <th>JP_Sales</th>\n",
       "      <th>Other_Sales</th>\n",
       "      <th>Global_Sales</th>\n",
       "    </tr>\n",
       "  </thead>\n",
       "  <tbody>\n",
       "    <tr>\n",
       "      <th>count</th>\n",
       "      <td>16324.000000</td>\n",
       "      <td>16324.000000</td>\n",
       "      <td>16324.000000</td>\n",
       "      <td>16324.000000</td>\n",
       "      <td>16324.000000</td>\n",
       "      <td>16324.000000</td>\n",
       "      <td>16324.000000</td>\n",
       "    </tr>\n",
       "    <tr>\n",
       "      <th>mean</th>\n",
       "      <td>8291.508270</td>\n",
       "      <td>2006.404251</td>\n",
       "      <td>0.265464</td>\n",
       "      <td>0.147581</td>\n",
       "      <td>0.078673</td>\n",
       "      <td>0.048334</td>\n",
       "      <td>0.540328</td>\n",
       "    </tr>\n",
       "    <tr>\n",
       "      <th>std</th>\n",
       "      <td>4792.043734</td>\n",
       "      <td>5.826744</td>\n",
       "      <td>0.821658</td>\n",
       "      <td>0.508809</td>\n",
       "      <td>0.311584</td>\n",
       "      <td>0.189902</td>\n",
       "      <td>1.565860</td>\n",
       "    </tr>\n",
       "    <tr>\n",
       "      <th>min</th>\n",
       "      <td>1.000000</td>\n",
       "      <td>1980.000000</td>\n",
       "      <td>0.000000</td>\n",
       "      <td>0.000000</td>\n",
       "      <td>0.000000</td>\n",
       "      <td>0.000000</td>\n",
       "      <td>0.010000</td>\n",
       "    </tr>\n",
       "    <tr>\n",
       "      <th>25%</th>\n",
       "      <td>4135.750000</td>\n",
       "      <td>2003.000000</td>\n",
       "      <td>0.000000</td>\n",
       "      <td>0.000000</td>\n",
       "      <td>0.000000</td>\n",
       "      <td>0.000000</td>\n",
       "      <td>0.060000</td>\n",
       "    </tr>\n",
       "    <tr>\n",
       "      <th>50%</th>\n",
       "      <td>8293.500000</td>\n",
       "      <td>2007.000000</td>\n",
       "      <td>0.080000</td>\n",
       "      <td>0.020000</td>\n",
       "      <td>0.000000</td>\n",
       "      <td>0.010000</td>\n",
       "      <td>0.170000</td>\n",
       "    </tr>\n",
       "    <tr>\n",
       "      <th>75%</th>\n",
       "      <td>12439.250000</td>\n",
       "      <td>2010.000000</td>\n",
       "      <td>0.240000</td>\n",
       "      <td>0.110000</td>\n",
       "      <td>0.040000</td>\n",
       "      <td>0.040000</td>\n",
       "      <td>0.480000</td>\n",
       "    </tr>\n",
       "    <tr>\n",
       "      <th>max</th>\n",
       "      <td>16600.000000</td>\n",
       "      <td>2016.000000</td>\n",
       "      <td>41.490000</td>\n",
       "      <td>29.020000</td>\n",
       "      <td>10.220000</td>\n",
       "      <td>10.570000</td>\n",
       "      <td>82.740000</td>\n",
       "    </tr>\n",
       "  </tbody>\n",
       "</table>\n",
       "</div>"
      ],
      "text/plain": [
       "               Rank          Year      NA_Sales      EU_Sales      JP_Sales  \\\n",
       "count  16324.000000  16324.000000  16324.000000  16324.000000  16324.000000   \n",
       "mean    8291.508270   2006.404251      0.265464      0.147581      0.078673   \n",
       "std     4792.043734      5.826744      0.821658      0.508809      0.311584   \n",
       "min        1.000000   1980.000000      0.000000      0.000000      0.000000   \n",
       "25%     4135.750000   2003.000000      0.000000      0.000000      0.000000   \n",
       "50%     8293.500000   2007.000000      0.080000      0.020000      0.000000   \n",
       "75%    12439.250000   2010.000000      0.240000      0.110000      0.040000   \n",
       "max    16600.000000   2016.000000     41.490000     29.020000     10.220000   \n",
       "\n",
       "        Other_Sales  Global_Sales  \n",
       "count  16324.000000  16324.000000  \n",
       "mean       0.048334      0.540328  \n",
       "std        0.189902      1.565860  \n",
       "min        0.000000      0.010000  \n",
       "25%        0.000000      0.060000  \n",
       "50%        0.010000      0.170000  \n",
       "75%        0.040000      0.480000  \n",
       "max       10.570000     82.740000  "
      ]
     },
     "execution_count": 6,
     "metadata": {},
     "output_type": "execute_result"
    }
   ],
   "source": [
    "df.describe()"
   ]
  },
  {
   "cell_type": "code",
   "execution_count": 7,
   "id": "828f2d77",
   "metadata": {},
   "outputs": [
    {
     "data": {
      "text/plain": [
       "Action          3252\n",
       "Sports          2304\n",
       "Misc            1710\n",
       "Role-Playing    1469\n",
       "Shooter         1282\n",
       "Adventure       1276\n",
       "Racing          1226\n",
       "Platform         876\n",
       "Simulation       851\n",
       "Fighting         836\n",
       "Strategy         671\n",
       "Puzzle           571\n",
       "Name: Genre, dtype: int64"
      ]
     },
     "execution_count": 7,
     "metadata": {},
     "output_type": "execute_result"
    }
   ],
   "source": [
    "df['Genre'].value_counts()"
   ]
  },
  {
   "cell_type": "code",
   "execution_count": 8,
   "id": "93eef974",
   "metadata": {},
   "outputs": [
    {
     "data": {
      "text/plain": [
       "array([[<AxesSubplot:title={'center':'Rank'}>,\n",
       "        <AxesSubplot:title={'center':'Year'}>,\n",
       "        <AxesSubplot:title={'center':'NA_Sales'}>],\n",
       "       [<AxesSubplot:title={'center':'EU_Sales'}>,\n",
       "        <AxesSubplot:title={'center':'JP_Sales'}>,\n",
       "        <AxesSubplot:title={'center':'Other_Sales'}>],\n",
       "       [<AxesSubplot:title={'center':'Global_Sales'}>, <AxesSubplot:>,\n",
       "        <AxesSubplot:>]], dtype=object)"
      ]
     },
     "execution_count": 8,
     "metadata": {},
     "output_type": "execute_result"
    },
    {
     "data": {
      "image/png": "[encoded data removed]",
      "text/plain": [
       "<Figure size 1440x1080 with 9 Axes>"
      ]
     },
     "metadata": {
      "needs_background": "light"
     },
     "output_type": "display_data"
    }
   ],
   "source": [
    "df.hist(bins=50, figsize=(20,15))"
   ]
  },
  {
   "cell_type": "code",
   "execution_count": 9,
   "id": "6c1d01fd",
   "metadata": {},
   "outputs": [
    {
     "data": {
      "text/plain": [
       "Rank             0\n",
       "Name             0\n",
       "Platform         0\n",
       "Year             0\n",
       "Genre            0\n",
       "Publisher       36\n",
       "NA_Sales         0\n",
       "EU_Sales         0\n",
       "JP_Sales         0\n",
       "Other_Sales      0\n",
       "Global_Sales     0\n",
       "dtype: int64"
      ]
     },
     "execution_count": 9,
     "metadata": {},
     "output_type": "execute_result"
    }
   ],
   "source": [
    "df.isnull().sum()"
   ]
  },
  {
   "cell_type": "code",
   "execution_count": 10,
   "id": "c9eb4f95",
   "metadata": {},
   "outputs": [],
   "source": [
    "data = df.dropna()"
   ]
  },
  {
   "cell_type": "code",
   "execution_count": 11,
   "id": "9797303b",
   "metadata": {},
   "outputs": [
    {
     "data": {
      "image/png": "[encoded data removed]",
      "text/plain": [
       "<Figure size 504x504 with 1 Axes>"
      ]
     },
     "metadata": {},
     "output_type": "display_data"
    }
   ],
   "source": [
    "import matplotlib as mpl\n",
    "game = data.groupby(\"Genre\")[\"Global_Sales\"].count().head(10)\n",
    "custom_colors = mpl.colors.Normalize(vmin=min(game), vmax=max(game))\n",
    "colours = [mpl.cm.PuBu(custom_colors(i)) for i in game]\n",
    "plt.figure(figsize=(7,7))\n",
    "plt.pie(game, labels=game.index, colors=colours)\n",
    "central_circle = plt.Circle((0, 0), 0.5, color='white')\n",
    "fig = plt.gcf()\n",
    "fig.gca().add_artist(central_circle)\n",
    "plt.rc('font', size=12)\n",
    "plt.title(\"Top 10 Categories of Games Sold\", fontsize=20)\n",
    "plt.show()"
   ]
  },
  {
   "cell_type": "code",
   "execution_count": 12,
   "id": "2a93b8e7",
   "metadata": {},
   "outputs": [
    {
     "data": {
      "image/png": "[encoded data removed]",
      "text/plain": [
       "<Figure size 432x288 with 2 Axes>"
      ]
     },
     "metadata": {
      "needs_background": "light"
     },
     "output_type": "display_data"
    }
   ],
   "source": [
    "data.corr()\n",
    "sns.heatmap(data.corr(), cmap=\"winter_r\")\n",
    "plt.show()"
   ]
  },
  {
   "cell_type": "code",
   "execution_count": 13,
   "id": "cab9105b",
   "metadata": {},
   "outputs": [],
   "source": [
    "x = data[[\"Rank\", \"NA_Sales\", \"EU_Sales\", \"JP_Sales\", \"Other_Sales\"]]\n",
    "y = data[\"Global_Sales\"]"
   ]
  },
  {
   "cell_type": "code",
   "execution_count": 14,
   "id": "a6f0b6d1",
   "metadata": {},
   "outputs": [
    {
     "data": {
      "text/plain": [
       "array([0.0705823 , 1.66975138, 2.29967932, ..., 1.48979017, 0.06059278,\n",
       "       1.32974684])"
      ]
     },
     "execution_count": 14,
     "metadata": {},
     "output_type": "execute_result"
    }
   ],
   "source": [
    "from sklearn.model_selection import train_test_split\n",
    "from sklearn.linear_model import LinearRegression\n",
    "xtrain, xtest, ytrain, ytest = train_test_split(x, y, test_size=0.2, random_state=42)\n",
    "model = LinearRegression()\n",
    "model.fit(xtrain, ytrain)\n",
    "model.predict(xtest)"
   ]
  },
  {
   "cell_type": "code",
   "execution_count": 15,
   "id": "97c7d69a",
   "metadata": {},
   "outputs": [],
   "source": [
    "predictions = model.predict(xtest)\n",
    "#print(predictions,list(ytest))"
   ]
  },
  {
   "cell_type": "code",
   "execution_count": 16,
   "id": "88a32d85",
   "metadata": {},
   "outputs": [],
   "source": [
    "from sklearn.metrics import mean_squared_error\n",
    "final_mse=mean_squared_error(ytest,predictions)\n",
    "final_rmse=np.sqrt(final_mse)"
   ]
  },
  {
   "cell_type": "code",
   "execution_count": 17,
   "id": "1498d3e3",
   "metadata": {},
   "outputs": [
    {
     "data": {
      "text/plain": [
       "0.005286007278506805"
      ]
     },
     "execution_count": 17,
     "metadata": {},
     "output_type": "execute_result"
    }
   ],
   "source": [
    "final_rmse"
   ]
  },
  {
   "cell_type": "code",
   "execution_count": 18,
   "id": "112e67db",
   "metadata": {},
   "outputs": [],
   "source": [
    "#print(model.score(xtest,ytest))"
   ]
  },
  {
   "cell_type": "code",
   "execution_count": null,
   "id": "a0f61b33",
   "metadata": {},
   "outputs": [],
   "source": []
  }
 ],
 "metadata": {
  "kernelspec": {
   "display_name": "Python 3 (ipykernel)",
   "language": "python",
   "name": "python3"
  },
  "language_info": {
   "codemirror_mode": {
    "name": "ipython",
    "version": 3
   },
   "file_extension": ".py",
   "mimetype": "text/x-python",
   "name": "python",
   "nbconvert_exporter": "python",
   "pygments_lexer": "ipython3",
   "version": "3.9.12"
  }
 },
 "nbformat": 4,
 "nbformat_minor": 5
}
